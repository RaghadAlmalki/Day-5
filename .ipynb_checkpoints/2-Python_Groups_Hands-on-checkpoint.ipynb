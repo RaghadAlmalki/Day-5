{
 "cells": [
  {
   "cell_type": "markdown",
   "metadata": {
    "id": "kZXiW0-J0-2x"
   },
   "source": [
    "# Python_Groups_Hands-on\n"
   ]
  },
  {
   "cell_type": "markdown",
   "metadata": {
    "id": "I05A6_S80-2y"
   },
   "source": [
    "## Project: Library Management System\n",
    "### Description:\n",
    "- Develop a basic Library Management System (LMS) that allows users to manage book records, including adding, updating, deleting, and displaying book information. The system should also provide basic statistical analysis.\n",
    "\n",
    "### System requirements:\n",
    "\n",
    "#### Data Structure Design:\n",
    "\n",
    "  - Define data structures using lists, tuples, dictionaries, and sets to store book information (e.g., book ID, title, author, year, genres).\n",
    "\n",
    "#### Basic Operations:\n",
    "\n",
    "- Implement functions to add, update, delete, and display book records.\n",
    "- Ensure proper type conversion and validation of inputs.\n",
    "\n",
    "#### Statistical Analysis:\n",
    "\n",
    "- Write functions to calculate and display the total number of books, the average publication year, and the most common genre.\n",
    "- Use list comprehensions and built-in functions (sort, len, zip, range) for calculations.\n",
    "\n",
    "#### Advanced Features:\n",
    "\n",
    "- Implement search functionality to find books by title or author using lambda functions.\n",
    "- Provide sorting options for book records based on different criteria (e.g., title, year).\n",
    "\n",
    "\n",
    "#### Exception Handling:\n",
    "\n",
    "- Handle potential errors (e.g., invalid input) using try-except blocks."
   ]
  },
  {
   "cell_type": "markdown",
   "metadata": {
    "id": "rXuH9y0_D76o"
   },
   "source": [
    "#### Q1: Using the following table, create a function to add these books to your library:\n",
    "\n",
    "\n",
    "\n",
    "| Book ID | Title                            | Author               | Year | Genres                              |\n",
    "|---------|----------------------------------|----------------------|------|-------------------------------------|\n",
    "| 1       | Harry Potter and the Sorcerer's Stone | J.K. Rowling         | 1997 | Fantasy, Young Adult                |\n",
    "| 2       | To Kill a Mockingbird             | Harper Lee           | 1960 | Fiction, Classics                   |\n",
    "| 3       | The Great Gatsby                  | F. Scott Fitzgerald  | 1925 | Fiction, Classics                   |\n",
    "| 4       | 1984                              | George Orwell        | 1949 | Fiction, Dystopian                  |\n",
    "| 5       | The Catcher in the Rye            | J.D. Salinger        | 1951 | Fiction, Classics                   |\n",
    "| 6       | Pride and Prejudice               | Jane Austen          | 1813 | Fiction, Romance, Classics          |\n",
    "| 7       | The Hobbit                        | J.R.R. Tolkien       | 1937 | Fantasy, Adventure                  |\n",
    "| 8       | The Hunger Games                  | Suzanne Collins      | 2008 | Science Fiction, Dystopian, Young Adult |\n",
    "| 9       | The Da Vinci Code                 | Dan Brown            | 2003 | Mystery, Thriller                   |\n",
    "| 10      | The Chronicles of Narnia          | C.S. Lewis           | 1950 | Fantasy, Children's Literature      |\n",
    "| 11      | Gone with the Wind                | Margaret Mitchell    | 1936 | Historical Fiction, Romance         |\n",
    "| 12      | Sapiens: A Brief History of Humankind | Yuval Noah Harari   | 2011 | Nonfiction, History, Science        |\n",
    "| 13      | The Road                          | Cormac McCarthy      | 2006 | Fiction, Post-Apocalyptic           |\n",
    "| 14      | The Girl with the Dragon Tattoo   | Stieg Larsson        | 2005 | Mystery, Thriller                   |\n",
    "| 15      | The Alchemist                     | Paulo Coelho         | 1988 | Fiction, Inspirational              |\n"
   ]
  },
  {
   "cell_type": "code",
   "execution_count": 192,
   "metadata": {
    "id": "BzV_B_g20-2z"
   },
   "outputs": [
    {
     "name": "stdout",
     "output_type": "stream",
     "text": [
      "{1: {'title': \"Harry Potter and the Sorcerer's Stone\", 'author': 'J.K. Rowling', 'year': '1997', 'genres': 'Fantasy, Young Adult'}, 2: {'title': 'To Kill a Mockingbird', 'author': 'Harper Lee', 'year': '1960', 'genres': 'Fiction, Classics'}, 3: {'title': 'The Great Gatsby', 'author': 'F. Scott Fitzgerald', 'year': '1925', 'genres': 'Fiction, Classics'}, 4: {'title': '1984', 'author': 'George Orwell', 'year': '1949', 'genres': 'Fiction, Dystopian'}, 5: {'title': 'The Catcher in the Rye', 'author': 'J.D. Salinger', 'year': '1951', 'genres': 'Fiction, Classics'}, 6: {'title': 'Pride and Prejudice', 'author': 'Jane Austen', 'year': '1813', 'genres': 'Fiction, Romance, Classics'}, 7: {'title': 'The Hobbit', 'author': 'J.R.R. Tolkien', 'year': '1937', 'genres': 'Fantasy, Adventure'}, 8: {'title': 'The Hunger Games', 'author': 'Suzanne Collins', 'year': '2008', 'genres': 'Science Fiction, Dystopian, Young Adult'}, 9: {'title': 'The Da Vinci Code', 'author': 'Harper Lee', 'year': '1960', 'genres': 'Fiction, Classics'}, 10: {'title': 'The Chronicles of Narnia', 'author': 'C.S. Lewis', 'year': '1950', 'genres': \"Fantasy, Children's Literature\"}, 11: {'title': 'Gone with the Wind', 'author': 'Margaret Mitchelle', 'year': '1936', 'genres': 'Historical Fiction, Romance'}, 12: {'title': 'Sapiens: A Brief History of Humankind', 'author': 'Yuval Noah Harari', 'year': '2011', 'genres': 'Nonfiction, History, Science'}, 13: {'title': 'The Road', 'author': 'Cormac McCarthy', 'year': '2006', 'genres': 'Fiction, Post-Apocalyptic'}, 14: {'title': 'The Girl with the Dragon Tattoo', 'author': 'Stieg Larsson', 'year': '2005', 'genres': '2005'}, 15: {'title': 'The Alchemist', 'author': 'Paulo Coelho', 'year': '1988', 'genres': 'Fiction, Inspirational'}}\n"
     ]
    }
   ],
   "source": [
    "books = {}\n",
    "\n",
    "def add_book(book_id, title, author, year, geners):\n",
    "        books[book_id] = {\n",
    "            \"title\" : title,\n",
    "            \"author\" : author,\n",
    "            \"year\" : year,\n",
    "            \"genres\" : geners }\n",
    "\n",
    "add_book(1, \"Harry Potter and the Sorcerer's Stone\", \"J.K. Rowling\", \"1997\", \"Fantasy, Young Adult\")\n",
    "add_book(2, \"To Kill a Mockingbird\", \"Harper Lee\", \"1960\", \"Fiction, Classics\")\n",
    "add_book(3, \"The Great Gatsby\", \"F. Scott Fitzgerald\", \"1925\", \"Fiction, Classics\")\n",
    "add_book(4, \"1984\", \"George Orwell\", \"1949\", \"Fiction, Dystopian\")\n",
    "add_book(5, \"The Catcher in the Rye\", \"J.D. Salinger\", \"1951\", \"Fiction, Classics\")\n",
    "add_book(6, \"Pride and Prejudice\", \"Jane Austen\", \"1813\", \"Fiction, Romance, Classics\")\n",
    "add_book(7, \"The Hobbit\", \"J.R.R. Tolkien\", \"1937\", \"Fantasy, Adventure\")\n",
    "add_book(8, \"The Hunger Games\", \"Suzanne Collins\", \"2008\", \"Science Fiction, Dystopian, Young Adult\")\n",
    "add_book(9, \"The Da Vinci Code\", \"Harper Lee\", \"1960\", \"Fiction, Classics\")\n",
    "add_book(10, \"The Chronicles of Narnia\", \"C.S. Lewis\", \"1950\", \"Fantasy, Children's Literature\")\n",
    "add_book(11, \"Gone with the Wind\", \"Margaret Mitchelle\", \"1936\", \"Historical Fiction, Romance\")\n",
    "add_book(12, \"Sapiens: A Brief History of Humankind\", \"Yuval Noah Harari\", \"2011\", \"Nonfiction, History, Science\")\n",
    "add_book(13, \"The Road\", \"Cormac McCarthy\", \"2006\", \"Fiction, Post-Apocalyptic\")\n",
    "add_book(14, \"The Girl with the Dragon Tattoo\", \"Stieg Larsson\", \"2005\", \"2005\")\n",
    "add_book(15, \"The Alchemist\", \"Paulo Coelho\", \"1988\", \"Fiction, Inspirational\")\n",
    "print(books)        "
   ]
  },
  {
   "cell_type": "markdown",
   "metadata": {
    "id": "kR5bvgOsF3oJ"
   },
   "source": [
    "#### Q2: Create a function that updates books exsisted in your library and test it.\n",
    "- **Note**: If the user entered wrong book ID it should print \"Book with ID 'num' does not exist."
   ]
  },
  {
   "cell_type": "code",
   "execution_count": 194,
   "metadata": {
    "id": "U60cFkbUUYmj"
   },
   "outputs": [
    {
     "name": "stdout",
     "output_type": "stream",
     "text": [
      "Book with ID '16' does not exist.\n",
      "{1: {'title': \"Harry Potter and the Sorcerer's Stone\", 'author': 'J.K. Rowling', 'year': '2009', 'genres': 'Fantasy, Young Adult'}, 2: {'title': 'To Kill a Mockingbird', 'author': 'Harper Lee', 'year': '1960', 'genres': 'Fiction, Classics'}, 3: {'title': 'The Great Gatsby', 'author': 'F. Scott Fitzgerald', 'year': '1925', 'genres': 'Fiction, Classics'}, 4: {'title': '1984', 'author': 'George Orwell', 'year': '1949', 'genres': 'Fiction, Dystopian'}, 5: {'title': 'The Catcher in the Rye', 'author': 'J.D. Salinger', 'year': '1951', 'genres': 'Fiction, Classics'}, 6: {'title': 'Pride and Prejudice', 'author': 'Jane Austen', 'year': '1813', 'genres': 'Fiction, Romance, Classics'}, 7: {'title': 'The Hobbit', 'author': 'J.R.R. Tolkien', 'year': '1937', 'genres': 'Fantasy, Adventure'}, 8: {'title': 'The Hunger Games', 'author': 'Suzanne Collins', 'year': '2008', 'genres': 'Science Fiction, Dystopian, Young Adult'}, 9: {'title': 'The Da Vinci Code', 'author': 'Harper Lee', 'year': '1960', 'genres': 'Fiction, Classics'}, 10: {'title': 'The Chronicles of Narnia', 'author': 'C.S. Lewis', 'year': '1950', 'genres': \"Fantasy, Children's Literature\"}, 11: {'title': 'Gone with the Wind', 'author': 'Margaret Mitchelle', 'year': '1936', 'genres': 'Historical Fiction, Romance'}, 12: {'title': 'Sapiens: A Brief History of Humankind', 'author': 'Yuval Noah Harari', 'year': '2011', 'genres': 'Nonfiction, History, Science'}, 13: {'title': 'The Road', 'author': 'Cormac McCarthy', 'year': '2006', 'genres': 'Fiction, Post-Apocalyptic'}, 14: {'title': 'The Girl with the Dragon Tattoo', 'author': 'Stieg Larsson', 'year': '2005', 'genres': '2005'}, 15: {'title': 'The Alchemist', 'author': 'Paulo Coelho', 'year': '1988', 'genres': 'Fiction, Inspirational'}}\n"
     ]
    }
   ],
   "source": [
    "def update_book(books, book_id, title=None, author=None, year=None):\n",
    "    if book_id in books:\n",
    "        if title:\n",
    "            books[book_id]['title'] = title\n",
    "        if author:\n",
    "            books[book_id]['author'] = author\n",
    "        if year:\n",
    "            books[book_id]['year'] = year\n",
    "    else:\n",
    "        print(f\"Book with ID '{book_id}' does not exist.\")\n",
    "\n",
    "\n",
    "update_book(books, 16, author='Herman Melville')\n",
    "update_book(books, 1, year='2009')\n",
    "print(books)"
   ]
  },
  {
   "cell_type": "markdown",
   "metadata": {
    "id": "ME3j_m-eLhyH"
   },
   "source": [
    "#### Q3: Create a function to delete books from your library and test it."
   ]
  },
  {
   "cell_type": "code",
   "execution_count": 154,
   "metadata": {
    "id": "JlGIx-gJUadK"
   },
   "outputs": [
    {
     "name": "stdout",
     "output_type": "stream",
     "text": [
      "{2: {'title': 'To Kill a Mockingbird', 'author': 'Harper Lee', 'year': '1960', 'genres': 'Fiction, Classics'}, 3: {'title': 'The Great Gatsby', 'author': 'F. Scott Fitzgerald', 'year': '1925', 'genres': 'Fiction, Classics'}, 4: {'title': '1984', 'author': 'George Orwell', 'year': '1949', 'genres': 'Fiction, Dystopian'}, 5: {'title': 'The Catcher in the Rye', 'author': 'J.D. Salinger', 'year': '1951', 'genres': 'Fiction, Classics'}, 6: {'title': 'Pride and Prejudice', 'author': 'Jane Austen', 'year': '1813', 'genres': 'Fiction, Romance, Classics'}, 7: {'title': 'The Hobbit', 'author': 'J.R.R. Tolkien', 'year': '1937', 'genres': 'Fantasy, Adventure'}, 8: {'title': 'The Hunger Games', 'author': 'Suzanne Collins', 'year': '2008', 'genres': 'Science Fiction, Dystopian, Young Adult'}, 9: {'title': 'The Da Vinci Code', 'author': 'Harper Lee', 'year': '1960', 'genres': 'Fiction, Classics'}, 10: {'title': 'The Chronicles of Narnia', 'author': 'C.S. Lewis', 'year': '1950', 'genres': \"Fantasy, Children's Literature\"}, 11: {'title': 'Gone with the Wind', 'author': 'Margaret Mitchelle', 'year': '1936', 'genres': 'Historical Fiction, Romance'}, 12: {'title': 'Sapiens: A Brief History of Humankind', 'author': 'Yuval Noah Harari', 'year': '2011', 'genres': 'Nonfiction, History, Science'}, 13: {'title': 'The Road', 'author': 'Cormac McCarthy', 'year': '2006', 'genres': 'Fiction, Post-Apocalyptic'}, 14: {'title': 'The Girl with the Dragon Tattoo', 'author': 'Stieg Larsson', 'year': '2005', 'genres': '2005'}, 15: {'title': 'The Alchemist', 'author': 'Paulo Coelho', 'year': '1988', 'genres': 'Fiction, Inspirational'}}\n"
     ]
    }
   ],
   "source": [
    "def delete_book(books, book_id):\n",
    "    if book_id in books:\n",
    "        del books[book_id]\n",
    "    else:\n",
    "        print(f\"Book with ID '{book_id}' does not exist.\")\n",
    "\n",
    "delete_book(books, 1)\n",
    "print(books)"
   ]
  },
  {
   "cell_type": "markdown",
   "metadata": {
    "id": "MIamnChwNgFr"
   },
   "source": [
    "#### Q4: Create a function that displays books information from your library and test it."
   ]
  },
  {
   "cell_type": "code",
   "execution_count": 162,
   "metadata": {
    "id": "xFNIK3YvUbz5"
   },
   "outputs": [
    {
     "name": "stdout",
     "output_type": "stream",
     "text": [
      "Book ID: 3\n",
      "title: The Great Gatsby\n",
      "author: F. Scott Fitzgerald\n",
      "year: 1925\n",
      "genres: Fiction, Classics\n"
     ]
    }
   ],
   "source": [
    "def display_book(book_id):\n",
    "    if book_id in books:\n",
    "        book = books[book_id]\n",
    "        print(\"Book ID:\", book_id)\n",
    "        print(\"title:\", book['title'])\n",
    "        print(\"author:\", book['author'])\n",
    "        print(\"year:\", book['year'])\n",
    "        print(\"genres:\", book['genres'])\n",
    "    else:\n",
    "        print(\"Book ID not found.\")\n",
    "\n",
    "display_book(3)"
   ]
  },
  {
   "cell_type": "markdown",
   "metadata": {
    "id": "OvfdKdBqNt22"
   },
   "source": [
    "#### Q5: Create functions to do the following: calculates and display the total number of books, the average publication year, and the most common genre. and test it."
   ]
  },
  {
   "cell_type": "code",
   "execution_count": 164,
   "metadata": {
    "id": "mWg5eHIWUcsU"
   },
   "outputs": [
    {
     "name": "stdout",
     "output_type": "stream",
     "text": [
      "Total num of Books: 3\n",
      "Average Publication Year: 1957.0714285714287\n"
     ]
    }
   ],
   "source": [
    "def total_books():\n",
    "    return len(library)\n",
    "\n",
    "def average_year():\n",
    "    total_years = sum(int(book['year']) for book in books.values())\n",
    "    return total_years / len(books)\n",
    "\n",
    "\n",
    "print(\"Total num of Books:\", total_books())\n",
    "print(\"Average Publication Year:\", average_year())"
   ]
  },
  {
   "cell_type": "markdown",
   "metadata": {
    "id": "IuVLtf7dQaUW"
   },
   "source": [
    "#### Q6: Create 2 functions to search for books by the title and the author from your library and test it."
   ]
  },
  {
   "cell_type": "code",
   "execution_count": 186,
   "metadata": {
    "id": "7LnwRJLCUe3p"
   },
   "outputs": [
    {
     "ename": "KeyError",
     "evalue": "'title'",
     "output_type": "error",
     "traceback": [
      "\u001b[0;31m---------------------------------------------------------------------------\u001b[0m",
      "\u001b[0;31mKeyError\u001b[0m                                  Traceback (most recent call last)",
      "Cell \u001b[0;32mIn[186], line 7\u001b[0m\n\u001b[1;32m      5\u001b[0m         \u001b[38;5;28;01melse\u001b[39;00m:\n\u001b[1;32m      6\u001b[0m              \u001b[38;5;28mprint\u001b[39m(\u001b[38;5;124m\"\u001b[39m\u001b[38;5;124mBook dosen\u001b[39m\u001b[38;5;124m'\u001b[39m\u001b[38;5;124mt exist\u001b[39m\u001b[38;5;124m\"\u001b[39m)\n\u001b[0;32m----> 7\u001b[0m search_title(books, \u001b[38;5;124m\"\u001b[39m\u001b[38;5;124mTo Kill a Mockingbird\u001b[39m\u001b[38;5;124m\"\u001b[39m)\n",
      "Cell \u001b[0;32mIn[186], line 3\u001b[0m, in \u001b[0;36msearch_title\u001b[0;34m(books, title)\u001b[0m\n\u001b[1;32m      1\u001b[0m \u001b[38;5;28;01mdef\u001b[39;00m \u001b[38;5;21msearch_title\u001b[39m(books, title):\n\u001b[1;32m      2\u001b[0m     \u001b[38;5;28;01mfor\u001b[39;00m title \u001b[38;5;129;01min\u001b[39;00m books\u001b[38;5;241m.\u001b[39mitems():\n\u001b[0;32m----> 3\u001b[0m         \u001b[38;5;28;01mif\u001b[39;00m books[\u001b[38;5;124m'\u001b[39m\u001b[38;5;124mtitle\u001b[39m\u001b[38;5;124m'\u001b[39m] \u001b[38;5;241m==\u001b[39m title:\n\u001b[1;32m      4\u001b[0m             \u001b[38;5;28mprint\u001b[39m(\u001b[38;5;124mf\u001b[39m\u001b[38;5;124m\"\u001b[39m\u001b[38;5;124mBook title \u001b[39m\u001b[38;5;124m'\u001b[39m\u001b[38;5;132;01m{\u001b[39;00mtitle\u001b[38;5;132;01m}\u001b[39;00m\u001b[38;5;124m'\u001b[39m\u001b[38;5;124m is exist.\u001b[39m\u001b[38;5;124m\"\u001b[39m)\n\u001b[1;32m      5\u001b[0m         \u001b[38;5;28;01melse\u001b[39;00m:\n",
      "\u001b[0;31mKeyError\u001b[0m: 'title'"
     ]
    }
   ],
   "source": [
    "def search_title(books, title):\n",
    "    for title in books.items():\n",
    "        if books['title'] == title:\n",
    "            print(f\"Book title '{title}' is exist.\")\n",
    "        else:\n",
    "             print(\"Book dosen't exist\")\n",
    "search_title(books, \"To Kill a Mockingbird\")"
   ]
  },
  {
   "cell_type": "markdown",
   "metadata": {
    "id": "fAu2ozKBQzJu"
   },
   "source": [
    "#### Q7: Create 2 functions to sort the books by the title and the year from your library and test it."
   ]
  },
  {
   "cell_type": "code",
   "execution_count": 178,
   "metadata": {
    "id": "X4PyuHTMUgHl"
   },
   "outputs": [
    {
     "data": {
      "text/plain": [
       "False"
      ]
     },
     "execution_count": 178,
     "metadata": {},
     "output_type": "execute_result"
    }
   ],
   "source": [
    "def sort_title(title, year):\n",
    "    if title in books['title']:\n",
    "        sorted_dict = sorted(books['title'])\n",
    "        print(sorted_dict)\n",
    "\n"
   ]
  },
  {
   "cell_type": "markdown",
   "metadata": {
    "id": "KiaFO8rdiv4u"
   },
   "source": [
    "#### Q8: Create a function to bulk update genres of books using list comprehension. and test it."
   ]
  },
  {
   "cell_type": "code",
   "execution_count": null,
   "metadata": {
    "id": "AbvXyE96UhVt"
   },
   "outputs": [],
   "source": [
    "# write your code here ^_^"
   ]
  },
  {
   "cell_type": "markdown",
   "metadata": {
    "id": "ZWkmOUNgi6V_"
   },
   "source": [
    "#### Q9: Implement a function to generate a report summarizing the library's statistics, including the total number of books, the number of books by each author, the number of books in each genre, and the oldest and newest books. and test it."
   ]
  },
  {
   "cell_type": "code",
   "execution_count": null,
   "metadata": {
    "id": "Okjlb9pTUloe"
   },
   "outputs": [],
   "source": [
    "# write your code here ^_^"
   ]
  }
 ],
 "metadata": {
  "colab": {
   "provenance": []
  },
  "kernelspec": {
   "display_name": "Python 3 (ipykernel)",
   "language": "python",
   "name": "python3"
  },
  "language_info": {
   "codemirror_mode": {
    "name": "ipython",
    "version": 3
   },
   "file_extension": ".py",
   "mimetype": "text/x-python",
   "name": "python",
   "nbconvert_exporter": "python",
   "pygments_lexer": "ipython3",
   "version": "3.12.4"
  }
 },
 "nbformat": 4,
 "nbformat_minor": 4
}
