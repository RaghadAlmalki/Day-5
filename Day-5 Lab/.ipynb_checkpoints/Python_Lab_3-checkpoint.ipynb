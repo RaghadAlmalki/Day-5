{
 "cells": [
  {
   "cell_type": "markdown",
   "metadata": {},
   "source": [
    "# Python_Lab_3\n"
   ]
  },
  {
   "cell_type": "markdown",
   "metadata": {},
   "source": [
    "### Task 1\n",
    "- Write a function named **'create_student_records'** that takes a list of tuples. Each tuple contains a student's name and their scores in three subjects. The function should return a list of dictionaries, where each dictionary represents a student with keys: name, subject1, subject2, subject3. Use list comprehension to create the list of dictionaries."
   ]
  },
  {
   "cell_type": "code",
   "execution_count": 90,
   "metadata": {},
   "outputs": [
    {
     "name": "stdout",
     "output_type": "stream",
     "text": [
      "[{'name': 'Maha', 'subject1': 98, 'subject2': 95, 'subject3': 90}, {'name': 'Rahaf', 'subject1': 88, 'subject2': 93, 'subject3': 80}, {'name': 'Nada', 'subject1': 50, 'subject2': 60, 'subject3': 71}]\n"
     ]
    }
   ],
   "source": [
    "students = [('Maha', 98, 95, 90), \n",
    "           ('Rahaf', 88, 93, 80), \n",
    "           ('Nada', 50, 60, 71)]\n",
    "\n",
    "def create_student_records(student_data):\n",
    "    \n",
    "    return[\n",
    "        {'name': name, 'subject1': score1, 'subject2': score2, 'subject3': score3} \n",
    "        for name, score1, score2, score3 in student_data]\n",
    "    \n",
    "students_records = create_student_records(students)\n",
    "print(students_records)\n",
    "\n"
   ]
  },
  {
   "cell_type": "markdown",
   "metadata": {},
   "source": [
    "### Task 2\n",
    "- Write a function named **'filter_and_sort_students'** that takes the list of dictionaries from Question 1 and returns a sorted list of student names who have an average score of 80 or more across all subjects. Sort the names in alphabetical order."
   ]
  },
  {
   "cell_type": "code",
   "execution_count": 95,
   "metadata": {},
   "outputs": [
    {
     "name": "stdout",
     "output_type": "stream",
     "text": [
      "['Maha', 'Rahaf']\n"
     ]
    }
   ],
   "source": [
    "def filter_and_sort_students(students_records):\n",
    "    \n",
    "    average = [(student['name'], (student['subject1'] + student['subject2'] + student['subject3']) / 3) for student in students_records]\n",
    "    student_sort = sorted([name for name, average in average if average >= 80])\n",
    "    return student_sort\n",
    "\n",
    "print(filter_and_sort_students(students_records))"
   ]
  },
  {
   "cell_type": "markdown",
   "metadata": {},
   "source": [
    "### Task 3\n",
    "- Write a function named **'get_product_info'** that prompts the user to enter information about a product. The function should ask for the product name, product price, and product quantity. If the user enters an invalid input (e.g., a non-numeric value for the price or quantity), the function should handle the error and prompt the user to enter the value again. Return a dictionary containing the product information."
   ]
  },
  {
   "cell_type": "code",
   "execution_count": 167,
   "metadata": {},
   "outputs": [
    {
     "name": "stdin",
     "output_type": "stream",
     "text": [
      "Enter product name:  iphone\n",
      "Enter product price:  five thousand \n"
     ]
    },
    {
     "name": "stdout",
     "output_type": "stream",
     "text": [
      "Invalid input. Please enter a numeric value for the price and quantity.\n"
     ]
    },
    {
     "name": "stdin",
     "output_type": "stream",
     "text": [
      "Enter product name:  iphone\n",
      "Enter product price:  5600\n",
      "Enter product quantity:  ten\n"
     ]
    },
    {
     "name": "stdout",
     "output_type": "stream",
     "text": [
      "Invalid input. Please enter a numeric value for the price and quantity.\n"
     ]
    },
    {
     "name": "stdin",
     "output_type": "stream",
     "text": [
      "Enter product name:  iphone\n",
      "Enter product price:  5600\n",
      "Enter product quantity:  10\n"
     ]
    },
    {
     "data": {
      "text/plain": [
       "{'name': 'iphone', 'price': 5600.0, 'quantity': 10}"
      ]
     },
     "execution_count": 167,
     "metadata": {},
     "output_type": "execute_result"
    }
   ],
   "source": [
    "product_info = {}\n",
    "\n",
    "def get_prodduct_info():\n",
    "     while True:\n",
    "        try:\n",
    "            name = input(\"Enter product name: \")\n",
    "            price = float(input(\"Enter product price: \"))\n",
    "            quantity = int(input(\"Enter product quantity: \"))\n",
    "            return {\"name\": name, \"price\": price, \"quantity\": quantity}\n",
    "       \n",
    "        except ValueError:\n",
    "            print(\"Invalid input. Please enter a numeric value for the price and quantity.\")\n",
    "            \n",
    "get_prodduct_info()"
   ]
  },
  {
   "cell_type": "markdown",
   "metadata": {},
   "source": [
    "### Task 4\n",
    "- Write a function named **'get_even_numbers'** that takes a list of integers and returns a list of even numbers using list comprehension."
   ]
  },
  {
   "cell_type": "code",
   "execution_count": 155,
   "metadata": {},
   "outputs": [
    {
     "data": {
      "text/plain": [
       "[20, 44, 28, 64]"
      ]
     },
     "execution_count": 155,
     "metadata": {},
     "output_type": "execute_result"
    }
   ],
   "source": [
    "def get_even_numbers():\n",
    "    numbers = [77, 35, 20, 44, 28, 64, 11]\n",
    "    even_numbers = [n for n in numbers if n % 2 == 0]\n",
    "\n",
    "    return even_numbers\n",
    "get_even_numbers()"
   ]
  },
  {
   "cell_type": "markdown",
   "metadata": {},
   "source": [
    "### Task 5\n",
    "- Write a function named **'pair_elements'** that takes two lists of equal length as parameters and returns a list of tuples, where each tuple contains corresponding elements from the two lists. Use the zip function to achieve this."
   ]
  },
  {
   "cell_type": "code",
   "execution_count": 161,
   "metadata": {},
   "outputs": [
    {
     "data": {
      "text/plain": [
       "[('Spider', 'man'), ('Super', 'man'), ('Cat', 'woman'), ('Bat', 'man')]"
      ]
     },
     "execution_count": 161,
     "metadata": {},
     "output_type": "execute_result"
    }
   ],
   "source": [
    "def pair_elements(list1, list2):\n",
    "    return list(zip(list1, list2))\n",
    "    \n",
    "list1 = ['Spider', 'Super', 'Cat', 'Bat']\n",
    "list2 = ['man', 'man', 'woman', 'man']\n",
    "\n",
    "pair_elements(list1, list2)"
   ]
  },
  {
   "cell_type": "markdown",
   "metadata": {},
   "source": [
    "### Task 6\n",
    "- Write a function named **'square_dict_lambda'** that takes a list of integers and returns a dictionary where the keys are the integers and the values are their squares. Use a lambda function within a dictionary comprehension to achieve this."
   ]
  },
  {
   "cell_type": "code",
   "execution_count": 165,
   "metadata": {},
   "outputs": [
    {
     "data": {
      "text/plain": [
       "{2: 4, 3: 9, 4: 16, 5: 25}"
      ]
     },
     "execution_count": 165,
     "metadata": {},
     "output_type": "execute_result"
    }
   ],
   "source": [
    "# lambda arguments: expression\n",
    "def square_dict_lambda():\n",
    "    list = [2, 3, 4, 5]\n",
    "    return {n: (lambda x: x**2)(n) for n in list}\n",
    "\n",
    "square_dict_lambda()"
   ]
  }
 ],
 "metadata": {
  "kernelspec": {
   "display_name": "Python 3 (ipykernel)",
   "language": "python",
   "name": "python3"
  },
  "language_info": {
   "codemirror_mode": {
    "name": "ipython",
    "version": 3
   },
   "file_extension": ".py",
   "mimetype": "text/x-python",
   "name": "python",
   "nbconvert_exporter": "python",
   "pygments_lexer": "ipython3",
   "version": "3.12.4"
  }
 },
 "nbformat": 4,
 "nbformat_minor": 4
}
